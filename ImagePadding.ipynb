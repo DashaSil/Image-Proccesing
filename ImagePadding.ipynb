
import cv2
import numpy as np
import matplotlib.pyplot as plt

def pad_image(image, pad_size, pad_type=''):
    if pad_type == 'constant':
        return np.pad(image, pad_size, mode='constant', constant_values=0)
    elif pad_type == 'reflect':
        return np.pad(image, pad_size, mode='reflect')
    elif pad_type == 'wrap':
        return np.pad(image, pad_size, mode='wrap')
    elif pad_type == 'edge':
        return np.pad(image, pad_size, mode='edge')
    elif pad_type == 'zero':
        return np.pad(image, pad_size, mode='constant', constant_values=0)
    else:
        raise ValueError("Invalid padding type. Choose 'constant', 'reflect', 'wrap', 'edge', or 'zero'.")

def my_imfilter(image, filter_kernel, pad_type=''):
    pad_size = (filter_kernel.shape[0] // 2, filter_kernel.shape[1] // 2)
    padded_image = pad_image(image, pad_size, pad_type)
    rows, cols = image.shape
    k_rows, k_cols = filter_kernel.shape
    filtered_image = np.zeros_like(image)
    for r in range(rows):
        for c in range(cols):
            roi = padded_image[r:r + k_rows, c:c + k_cols]
            filtered_image[r, c] = np.sum(roi * filter_kernel)
    return filtered_image

def smooth_image(image, pad_type='reflect'):
    smooth_kernel = np.ones((3, 3)) / 9.8
    return my_imfilter(image, smooth_kernel, pad_type)

def edge_detection(image, pad_type='reflect'):
    edge_kernel = np.array([[-1, -1, -1],
                            [-1,  3, -1],
                            [-1, -1, -1]]) 
    return my_imfilter(image, edge_kernel, pad_type)

def sharpen_image(image, pad_type='reflect'):
    sharpen_kernel = np.array([[0, -1, 0],
                               [-1, 5, -1],
                               [0, -1, 0]]) 
    return my_imfilter(image, sharpen_kernel, pad_type)

# Load and preprocess the image
img = cv2.imread("C:/Users/dasha/Downloads/Silver.jpg")
gray_img = cv2.cvtColor(img, cv2.COLOR_BGR2GRAY)
resized_img = cv2.resize(gray_img, (256, 256))
resized_img2 = cv2.resize(img, (256, 256))

# Apply image processing functions
smoothed_img = smooth_image(resized_img, pad_type='reflect')
sharpened_img = sharpen_image(resized_img, pad_type='reflect')
edges_img = edge_detection(resized_img, pad_type='reflect')

# Display images inline in Jupyter Notebook using Matplotlib
plt.figure(figsize=(12, 8))

plt.subplot(2, 3, 1)
plt.imshow(cv2.cvtColor(resized_img2, cv2.COLOR_BGR2RGB))
plt.title('Original')
plt.axis('off')

plt.subplot(2, 3, 2)
plt.imshow(resized_img, cmap='gray')
plt.title('Gray and Resized')
plt.axis('off')

plt.subplot(2, 3, 3)
plt.imshow(smoothed_img, cmap='gray')
plt.title('Smoothed')
plt.axis('off')

plt.subplot(2, 3, 4)
plt.imshow(sharpened_img, cmap='gray')
plt.title('Sharpened')
plt.axis('off')

plt.subplot(2, 3, 5)
plt.imshow(edges_img, cmap='gray')
plt.title('Edges Image')
plt.axis('off')

plt.tight_layout()
plt.show()
